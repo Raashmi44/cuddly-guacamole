{
 "cells": [
  {
   "cell_type": "code",
   "execution_count": 294,
   "metadata": {},
   "outputs": [],
   "source": [
    "#https://www.kaggle.com/jboysen/state-firearms\n",
    "import pandas as pd\n",
    "import numpy as np\n",
    "import matplotlib.pyplot as plt\n",
    "import seaborn as sns\n",
    "from scipy.stats import ttest_ind\n",
    "from matplotlib.pyplot import hist\n",
    "%matplotlib inline\n",
    " \n",
    "\n",
    "    \n",
    "df = pd.read_csv('raw_data.csv', sep=',', encoding='Latin-1') # Read the four raw .csv file, store into data frames\n",
    "df.head()\n",
    "\n",
    "df_az = df[df['state'] == 'Arizona']\n",
    "\n",
    "#df_az\n",
    "\n"
   ]
  },
  {
   "cell_type": "code",
   "execution_count": 176,
   "metadata": {},
   "outputs": [],
   "source": [
    "cols = df.columns.tolist()\n",
    "#cols"
   ]
  },
  {
   "cell_type": "code",
   "execution_count": 157,
   "metadata": {
    "scrolled": true
   },
   "outputs": [
    {
     "name": "stdout",
     "output_type": "stream",
     "text": [
      "(27, 136)\n"
     ]
    },
    {
     "data": {
      "text/html": [
       "<div>\n",
       "<style scoped>\n",
       "    .dataframe tbody tr th:only-of-type {\n",
       "        vertical-align: middle;\n",
       "    }\n",
       "\n",
       "    .dataframe tbody tr th {\n",
       "        vertical-align: top;\n",
       "    }\n",
       "\n",
       "    .dataframe thead th {\n",
       "        text-align: right;\n",
       "    }\n",
       "</style>\n",
       "<table border=\"1\" class=\"dataframe\">\n",
       "  <thead>\n",
       "    <tr style=\"text-align: right;\">\n",
       "      <th></th>\n",
       "      <th>state</th>\n",
       "      <th>year</th>\n",
       "      <th>age18longgunpossess</th>\n",
       "      <th>age18longgunsale</th>\n",
       "      <th>age21handgunpossess</th>\n",
       "      <th>age21handgunsale</th>\n",
       "      <th>age21longgunpossess</th>\n",
       "      <th>age21longgunsale</th>\n",
       "      <th>age21longgunsaled</th>\n",
       "      <th>alcoholism</th>\n",
       "      <th>...</th>\n",
       "      <th>universal</th>\n",
       "      <th>universalh</th>\n",
       "      <th>universalpermit</th>\n",
       "      <th>universalpermith</th>\n",
       "      <th>violent</th>\n",
       "      <th>violenth</th>\n",
       "      <th>violentpartial</th>\n",
       "      <th>waiting</th>\n",
       "      <th>waitingh</th>\n",
       "      <th>lawtotal</th>\n",
       "    </tr>\n",
       "  </thead>\n",
       "  <tbody>\n",
       "    <tr>\n",
       "      <th>2</th>\n",
       "      <td>Arizona</td>\n",
       "      <td>1991</td>\n",
       "      <td>0</td>\n",
       "      <td>0</td>\n",
       "      <td>0</td>\n",
       "      <td>0</td>\n",
       "      <td>0</td>\n",
       "      <td>0</td>\n",
       "      <td>0</td>\n",
       "      <td>0</td>\n",
       "      <td>...</td>\n",
       "      <td>0</td>\n",
       "      <td>0</td>\n",
       "      <td>0</td>\n",
       "      <td>0</td>\n",
       "      <td>0</td>\n",
       "      <td>0</td>\n",
       "      <td>0</td>\n",
       "      <td>0</td>\n",
       "      <td>0</td>\n",
       "      <td>12</td>\n",
       "    </tr>\n",
       "    <tr>\n",
       "      <th>52</th>\n",
       "      <td>Arizona</td>\n",
       "      <td>1992</td>\n",
       "      <td>0</td>\n",
       "      <td>0</td>\n",
       "      <td>0</td>\n",
       "      <td>0</td>\n",
       "      <td>0</td>\n",
       "      <td>0</td>\n",
       "      <td>0</td>\n",
       "      <td>0</td>\n",
       "      <td>...</td>\n",
       "      <td>0</td>\n",
       "      <td>0</td>\n",
       "      <td>0</td>\n",
       "      <td>0</td>\n",
       "      <td>0</td>\n",
       "      <td>0</td>\n",
       "      <td>0</td>\n",
       "      <td>0</td>\n",
       "      <td>0</td>\n",
       "      <td>12</td>\n",
       "    </tr>\n",
       "    <tr>\n",
       "      <th>102</th>\n",
       "      <td>Arizona</td>\n",
       "      <td>1993</td>\n",
       "      <td>1</td>\n",
       "      <td>0</td>\n",
       "      <td>0</td>\n",
       "      <td>0</td>\n",
       "      <td>0</td>\n",
       "      <td>0</td>\n",
       "      <td>0</td>\n",
       "      <td>0</td>\n",
       "      <td>...</td>\n",
       "      <td>0</td>\n",
       "      <td>0</td>\n",
       "      <td>0</td>\n",
       "      <td>0</td>\n",
       "      <td>0</td>\n",
       "      <td>0</td>\n",
       "      <td>0</td>\n",
       "      <td>0</td>\n",
       "      <td>0</td>\n",
       "      <td>13</td>\n",
       "    </tr>\n",
       "    <tr>\n",
       "      <th>152</th>\n",
       "      <td>Arizona</td>\n",
       "      <td>1994</td>\n",
       "      <td>1</td>\n",
       "      <td>0</td>\n",
       "      <td>0</td>\n",
       "      <td>0</td>\n",
       "      <td>0</td>\n",
       "      <td>0</td>\n",
       "      <td>0</td>\n",
       "      <td>0</td>\n",
       "      <td>...</td>\n",
       "      <td>0</td>\n",
       "      <td>0</td>\n",
       "      <td>0</td>\n",
       "      <td>0</td>\n",
       "      <td>0</td>\n",
       "      <td>0</td>\n",
       "      <td>0</td>\n",
       "      <td>0</td>\n",
       "      <td>0</td>\n",
       "      <td>11</td>\n",
       "    </tr>\n",
       "    <tr>\n",
       "      <th>202</th>\n",
       "      <td>Arizona</td>\n",
       "      <td>1995</td>\n",
       "      <td>1</td>\n",
       "      <td>0</td>\n",
       "      <td>0</td>\n",
       "      <td>0</td>\n",
       "      <td>0</td>\n",
       "      <td>0</td>\n",
       "      <td>0</td>\n",
       "      <td>0</td>\n",
       "      <td>...</td>\n",
       "      <td>0</td>\n",
       "      <td>0</td>\n",
       "      <td>0</td>\n",
       "      <td>0</td>\n",
       "      <td>0</td>\n",
       "      <td>0</td>\n",
       "      <td>0</td>\n",
       "      <td>0</td>\n",
       "      <td>0</td>\n",
       "      <td>12</td>\n",
       "    </tr>\n",
       "  </tbody>\n",
       "</table>\n",
       "<p>5 rows × 136 columns</p>\n",
       "</div>"
      ],
      "text/plain": [
       "       state  year  age18longgunpossess  age18longgunsale  \\\n",
       "2    Arizona  1991                    0                 0   \n",
       "52   Arizona  1992                    0                 0   \n",
       "102  Arizona  1993                    1                 0   \n",
       "152  Arizona  1994                    1                 0   \n",
       "202  Arizona  1995                    1                 0   \n",
       "\n",
       "     age21handgunpossess  age21handgunsale  age21longgunpossess  \\\n",
       "2                      0                 0                    0   \n",
       "52                     0                 0                    0   \n",
       "102                    0                 0                    0   \n",
       "152                    0                 0                    0   \n",
       "202                    0                 0                    0   \n",
       "\n",
       "     age21longgunsale  age21longgunsaled  alcoholism    ...     universal  \\\n",
       "2                   0                  0           0    ...             0   \n",
       "52                  0                  0           0    ...             0   \n",
       "102                 0                  0           0    ...             0   \n",
       "152                 0                  0           0    ...             0   \n",
       "202                 0                  0           0    ...             0   \n",
       "\n",
       "     universalh  universalpermit  universalpermith  violent  violenth  \\\n",
       "2             0                0                 0        0         0   \n",
       "52            0                0                 0        0         0   \n",
       "102           0                0                 0        0         0   \n",
       "152           0                0                 0        0         0   \n",
       "202           0                0                 0        0         0   \n",
       "\n",
       "     violentpartial  waiting  waitingh  lawtotal  \n",
       "2                 0        0         0        12  \n",
       "52                0        0         0        12  \n",
       "102               0        0         0        13  \n",
       "152               0        0         0        11  \n",
       "202               0        0         0        12  \n",
       "\n",
       "[5 rows x 136 columns]"
      ]
     },
     "execution_count": 157,
     "metadata": {},
     "output_type": "execute_result"
    }
   ],
   "source": [
    "print(df_az.shape)\n",
    "df_az.head()"
   ]
  },
  {
   "cell_type": "code",
   "execution_count": 174,
   "metadata": {},
   "outputs": [
    {
     "data": {
      "text/plain": [
       "['state',\n",
       " 'year',\n",
       " 'age18longgunpossess',\n",
       " 'age18longgunsale',\n",
       " 'age21handgunpossess',\n",
       " 'age21handgunsale',\n",
       " 'age21longgunpossess',\n",
       " 'age21longgunsale',\n",
       " 'age21longgunsaled',\n",
       " 'alcoholism',\n",
       " 'alctreatment',\n",
       " 'amm18',\n",
       " 'amm21h',\n",
       " 'ammbackground',\n",
       " 'ammlicense',\n",
       " 'ammpermit',\n",
       " 'ammrecords',\n",
       " 'ammrestrict',\n",
       " 'assault',\n",
       " 'assaultlist',\n",
       " 'assaultregister',\n",
       " 'assaulttransfer',\n",
       " 'backgroundpurge',\n",
       " 'cap14',\n",
       " 'cap16',\n",
       " 'cap18',\n",
       " 'capaccess',\n",
       " 'capliability',\n",
       " 'capunloaded',\n",
       " 'capuses',\n",
       " 'ccbackground',\n",
       " 'ccbackgroundnics',\n",
       " 'ccrenewbackground',\n",
       " 'ccrevoke',\n",
       " 'college',\n",
       " 'collegeconcealed',\n",
       " 'danger',\n",
       " 'dealer',\n",
       " 'dealerh',\n",
       " 'defactoreg',\n",
       " 'defactoregh',\n",
       " 'drugmisdemeanor',\n",
       " 'dvro',\n",
       " 'dvrodating',\n",
       " 'dvroremoval',\n",
       " 'dvrosurrender',\n",
       " 'dvrosurrenderdating',\n",
       " 'dvrosurrendernoconditions',\n",
       " 'elementary',\n",
       " 'exparte',\n",
       " 'expartedating',\n",
       " 'expartesurrender',\n",
       " 'expartesurrenderdating',\n",
       " 'expartesurrendernoconditions',\n",
       " 'felony',\n",
       " 'fingerprint',\n",
       " 'gunshow',\n",
       " 'gunshowh',\n",
       " 'gvro',\n",
       " 'gvrolawenforcement',\n",
       " 'immunity',\n",
       " 'incidentall',\n",
       " 'incidentremoval',\n",
       " 'inspection',\n",
       " 'invcommitment',\n",
       " 'invoutpatient',\n",
       " 'junkgun',\n",
       " 'liability',\n",
       " 'lockd',\n",
       " 'locked',\n",
       " 'lockp',\n",
       " 'lockstandards',\n",
       " 'loststolen',\n",
       " 'magazine',\n",
       " 'magazinepreowned',\n",
       " 'mayissue',\n",
       " 'mcdv',\n",
       " 'mcdvdating',\n",
       " 'mcdvremovalallowed',\n",
       " 'mcdvremovalrequired',\n",
       " 'mcdvsurrender',\n",
       " 'mcdvsurrenderdating',\n",
       " 'mcdvsurrendernoconditions',\n",
       " 'mentalhealth',\n",
       " 'microstamp',\n",
       " 'nosyg',\n",
       " 'onefeature',\n",
       " 'onepermonth',\n",
       " 'opencarryh',\n",
       " 'opencarryl',\n",
       " 'opencarrypermith',\n",
       " 'opencarrypermitl',\n",
       " 'permit',\n",
       " 'permitconcealed',\n",
       " 'permith',\n",
       " 'permitlaw',\n",
       " 'personalized',\n",
       " 'preemption',\n",
       " 'preemptionbroad',\n",
       " 'preemptionnarrow',\n",
       " 'purge',\n",
       " 'recordsall',\n",
       " 'recordsallh',\n",
       " 'recordsdealer',\n",
       " 'recordsdealerh',\n",
       " 'registration',\n",
       " 'registrationh',\n",
       " 'reportall',\n",
       " 'reportallh',\n",
       " 'reportdealer',\n",
       " 'reportdealerh',\n",
       " 'residential',\n",
       " 'security',\n",
       " 'showing',\n",
       " 'stalking',\n",
       " 'statechecks',\n",
       " 'statechecksh',\n",
       " 'strawpurchase',\n",
       " 'strawpurchaseh',\n",
       " 'tenroundlimit',\n",
       " 'theft',\n",
       " 'threedaylimit',\n",
       " 'traffickingbackground',\n",
       " 'traffickingprohibited',\n",
       " 'traffickingprohibitedh',\n",
       " 'training',\n",
       " 'universal',\n",
       " 'universalh',\n",
       " 'universalpermit',\n",
       " 'universalpermith',\n",
       " 'violent',\n",
       " 'violenth',\n",
       " 'violentpartial',\n",
       " 'waiting',\n",
       " 'waitingh',\n",
       " 'lawtotal']"
      ]
     },
     "execution_count": 174,
     "metadata": {},
     "output_type": "execute_result"
    }
   ],
   "source": [
    "cols = df_az.columns.tolist()\n",
    "cols"
   ]
  },
  {
   "cell_type": "code",
   "execution_count": 225,
   "metadata": {
    "scrolled": true
   },
   "outputs": [
    {
     "data": {
      "text/plain": [
       "year             54108\n",
       "dealer               0\n",
       "dealerh              0\n",
       "reportdealer         0\n",
       "reportdealerh        0\n",
       "reportall            0\n",
       "reportallh           0\n",
       "residential          0\n",
       "theft                0\n",
       "inspection           0\n",
       "liability            0\n",
       "junkgun              0\n",
       "dtype: int64"
      ]
     },
     "execution_count": 225,
     "metadata": {},
     "output_type": "execute_result"
    }
   ],
   "source": [
    "df_dealer_regulations = df_az[['year', 'dealer', 'dealerh', 'reportdealer', 'reportdealerh', 'reportall', 'reportallh', 'residential', 'theft', 'inspection', 'liability', 'junkgun']]\n",
    "df_dealer_regulations.sum()\n"
   ]
  },
  {
   "cell_type": "code",
   "execution_count": 224,
   "metadata": {},
   "outputs": [
    {
     "data": {
      "text/plain": [
       "year                 54108\n",
       "waiting                  0\n",
       "waitingh                 0\n",
       "permit                   0\n",
       "permith                  0\n",
       "permitlaw                0\n",
       "fingerprint              0\n",
       "fingerprint              0\n",
       "training                 0\n",
       "registration             0\n",
       "registrationh            0\n",
       "defactoreg               0\n",
       "defactoregh              0\n",
       "age21handgunsale         0\n",
       "age18longgunsale         0\n",
       "age21longgunsaled        0\n",
       "age21longgunsale         0\n",
       "loststolen               0\n",
       "onepermonth              0\n",
       "dtype: int64"
      ]
     },
     "execution_count": 224,
     "metadata": {},
     "output_type": "execute_result"
    }
   ],
   "source": [
    "df_buyer_regulations = df_az[['year', 'waiting', 'waitingh', 'permit', 'permith', 'permitlaw', 'fingerprint', 'fingerprint', 'training', 'registration', 'registrationh', 'defactoreg', 'defactoregh', 'age21handgunsale', 'age18longgunsale', 'age21longgunsaled', 'age21longgunsale', 'loststolen', 'onepermonth']]\n",
    "df_buyer_regulations.sum()\n"
   ]
  },
  {
   "cell_type": "code",
   "execution_count": 207,
   "metadata": {},
   "outputs": [
    {
     "data": {
      "text/plain": [
       "year                 54108\n",
       "waiting                  0\n",
       "waitingh                 0\n",
       "permit                   0\n",
       "permith                  0\n",
       "permitlaw                0\n",
       "fingerprint              0\n",
       "fingerprint              0\n",
       "training                 0\n",
       "registration             0\n",
       "registrationh            0\n",
       "defactoreg               0\n",
       "defactoregh              0\n",
       "age21handgunsale         0\n",
       "age18longgunsale         0\n",
       "age21longgunsaled        0\n",
       "age21longgunsale         0\n",
       "loststolen               0\n",
       "onepermonth              0\n",
       "dtype: int64"
      ]
     },
     "execution_count": 207,
     "metadata": {},
     "output_type": "execute_result"
    }
   ],
   "source": [
    "df_buyer_regulations.sum() "
   ]
  },
  {
   "cell_type": "code",
   "execution_count": 223,
   "metadata": {
    "scrolled": true
   },
   "outputs": [
    {
     "data": {
      "text/plain": [
       "felony             24\n",
       "violent             0\n",
       "violenth            0\n",
       "violentpartial      0\n",
       "invcommitment      27\n",
       "invoutpatient      27\n",
       "danger             27\n",
       "drugmisdemeanor     0\n",
       "alctreatment        0\n",
       "alcoholism          0\n",
       "dtype: int64"
      ]
     },
     "execution_count": 223,
     "metadata": {},
     "output_type": "execute_result"
    }
   ],
   "source": [
    "df_prohibitions_high_risk = df_az[['felony', 'violent', 'violenth', 'violentpartial', 'invcommitment', 'invoutpatient', 'danger', 'drugmisdemeanor', 'alctreatment', 'alcoholism']]\n",
    "df_prohibitions_high_risk.sum()\n"
   ]
  },
  {
   "cell_type": "code",
   "execution_count": 222,
   "metadata": {},
   "outputs": [
    {
     "data": {
      "text/plain": [
       "universal           0\n",
       "universalh          0\n",
       "gunshow             0\n",
       "gunshowh            0\n",
       "universalpermit     0\n",
       "universalpermith    0\n",
       "mentalhealth        0\n",
       "statechecks         0\n",
       "statechecksh        0\n",
       "dtype: int64"
      ]
     },
     "execution_count": 222,
     "metadata": {},
     "output_type": "execute_result"
    }
   ],
   "source": [
    "df_background_checks = df_az[['universal','universalh','gunshow','gunshowh','universalpermit','universalpermith','mentalhealth','statechecks','statechecksh']]\n",
    "df_background_checks.sum()"
   ]
  },
  {
   "cell_type": "code",
   "execution_count": 221,
   "metadata": {
    "scrolled": true
   },
   "outputs": [
    {
     "data": {
      "text/plain": [
       "ammlicense       0\n",
       "ammrecords       0\n",
       "ammpermit        0\n",
       "ammrestrict      0\n",
       "amm18            0\n",
       "amm21h           0\n",
       "ammbackground    0\n",
       "dtype: int64"
      ]
     },
     "execution_count": 221,
     "metadata": {},
     "output_type": "execute_result"
    }
   ],
   "source": [
    "df_ammunition_regulations = df_az[['ammlicense','ammrecords','ammpermit','ammrestrict','amm18','amm21h','ammbackground']]\n",
    "df_ammunition_regulations.sum()\n"
   ]
  },
  {
   "cell_type": "code",
   "execution_count": 220,
   "metadata": {
    "scrolled": true
   },
   "outputs": [
    {
     "data": {
      "text/plain": [
       "age21handgunpossess    0\n",
       "age21longgunpossess    0\n",
       "gvro                   0\n",
       "gvrolawenforcement     0\n",
       "college                0\n",
       "collegeconcealed       0\n",
       "elementary             3\n",
       "opencarryh             0\n",
       "opencarryl             0\n",
       "opencarrypermith       0\n",
       "opencarrypermitl       0\n",
       "dtype: int64"
      ]
     },
     "execution_count": 220,
     "metadata": {},
     "output_type": "execute_result"
    }
   ],
   "source": [
    "df_possession_regulations = df_az[['age21handgunpossess','age21longgunpossess','gvro','gvrolawenforcement','college','collegeconcealed','elementary','opencarryh','opencarryl','opencarrypermith','opencarrypermitl']]\n",
    "df_possession_regulations.sum()"
   ]
  },
  {
   "cell_type": "code",
   "execution_count": 219,
   "metadata": {},
   "outputs": [
    {
     "data": {
      "text/plain": [
       "permitconcealed      19\n",
       "mayissue              3\n",
       "showing               3\n",
       "ccrevoke             27\n",
       "ccbackground         27\n",
       "ccbackgroundnics      0\n",
       "ccrenewbackground    27\n",
       "dtype: int64"
      ]
     },
     "execution_count": 219,
     "metadata": {},
     "output_type": "execute_result"
    }
   ],
   "source": [
    "df_concealed_carry_permitting = df_az[['permitconcealed','mayissue','showing','ccrevoke','ccbackground','ccbackgroundnics','ccrenewbackground']]\n",
    "df_concealed_carry_permitting.sum()"
   ]
  },
  {
   "cell_type": "code",
   "execution_count": 226,
   "metadata": {
    "scrolled": true
   },
   "outputs": [
    {
     "data": {
      "text/plain": [
       "assault             0\n",
       "onefeature          0\n",
       "assaultlist         0\n",
       "assaultregister     0\n",
       "assaulttransfer     0\n",
       "magazine            0\n",
       "tenroundlimit       0\n",
       "magazinepreowned    0\n",
       "dtype: int64"
      ]
     },
     "execution_count": 226,
     "metadata": {},
     "output_type": "execute_result"
    }
   ],
   "source": [
    "df_assault_weapons = df_az[['assault','onefeature','assaultlist','assaultregister','assaulttransfer','magazine','tenroundlimit','magazinepreowned']]\n",
    "df_assault_weapons.sum()"
   ]
  },
  {
   "cell_type": "code",
   "execution_count": 227,
   "metadata": {
    "scrolled": true
   },
   "outputs": [
    {
     "data": {
      "text/plain": [
       "lockd            0\n",
       "lockp            0\n",
       "lockstandards    0\n",
       "locked           0\n",
       "capliability     0\n",
       "capaccess        0\n",
       "capuses          0\n",
       "capunloaded      0\n",
       "cap18            0\n",
       "cap16            0\n",
       "cap14            0\n",
       "dtype: int64"
      ]
     },
     "execution_count": 227,
     "metadata": {},
     "output_type": "execute_result"
    }
   ],
   "source": [
    "df_child_access_prevention = df_az[['lockd','lockp','lockstandards','locked','capliability','capaccess','capuses','capunloaded','cap18','cap16','cap14']]\n",
    "df_child_access_prevention.sum()\n"
   ]
  },
  {
   "cell_type": "code",
   "execution_count": 228,
   "metadata": {
    "scrolled": true
   },
   "outputs": [
    {
     "data": {
      "text/plain": [
       "traffickingbackground     0\n",
       "traffickingprohibited     0\n",
       "traffickingprohibitedh    0\n",
       "strawpurchase             0\n",
       "strawpurchaseh            0\n",
       "microstamp                0\n",
       "personalized              0\n",
       "dtype: int64"
      ]
     },
     "execution_count": 228,
     "metadata": {},
     "output_type": "execute_result"
    }
   ],
   "source": [
    "df_gun_trafficking = df_az[['traffickingbackground','traffickingprohibited','traffickingprohibitedh','strawpurchase','strawpurchaseh','microstamp','personalized']]\n",
    "df_gun_trafficking.sum()"
   ]
  },
  {
   "cell_type": "code",
   "execution_count": 229,
   "metadata": {},
   "outputs": [
    {
     "data": {
      "text/plain": [
       "nosyg    19\n",
       "dtype: int64"
      ]
     },
     "execution_count": 229,
     "metadata": {},
     "output_type": "execute_result"
    }
   ],
   "source": [
    "df_stand_your_ground = df_az[['nosyg']]\n",
    "df_stand_your_ground.sum()"
   ]
  },
  {
   "cell_type": "code",
   "execution_count": 230,
   "metadata": {
    "scrolled": true
   },
   "outputs": [
    {
     "data": {
      "text/plain": [
       "preemption          0\n",
       "preemptionnarrow    0\n",
       "preemptionbroad     0\n",
       "dtype: int64"
      ]
     },
     "execution_count": 230,
     "metadata": {},
     "output_type": "execute_result"
    }
   ],
   "source": [
    "df_preemption = df_az[['preemption','preemptionnarrow','preemptionbroad']]\n",
    "df_preemption.sum()"
   ]
  },
  {
   "cell_type": "code",
   "execution_count": 235,
   "metadata": {},
   "outputs": [
    {
     "data": {
      "text/plain": [
       "year        54108\n",
       "immunity        8\n",
       "dtype: int64"
      ]
     },
     "execution_count": 235,
     "metadata": {},
     "output_type": "execute_result"
    }
   ],
   "source": [
    "df_immunity = df_az[['year','immunity']]\n",
    "df_immunity.sum()"
   ]
  },
  {
   "cell_type": "code",
   "execution_count": 236,
   "metadata": {},
   "outputs": [
    {
     "data": {
      "text/plain": [
       "mcdv                            18\n",
       "mcdvdating                      18\n",
       "mcdvsurrender                    0\n",
       "mcdvsurrendernoconditions        0\n",
       "mcdvsurrenderdating              0\n",
       "mcdvremovalallowed               0\n",
       "mcdvremovalrequired              0\n",
       "incidentremoval                  0\n",
       "incidentall                      0\n",
       "dvro                             0\n",
       "dvrodating                       0\n",
       "exparte                          0\n",
       "expartedating                    0\n",
       "dvrosurrender                    0\n",
       "dvrosurrendernoconditions        0\n",
       "dvrosurrenderdating              0\n",
       "expartesurrender                 0\n",
       "expartesurrendernoconditions     0\n",
       "expartesurrenderdating           0\n",
       "dvroremoval                      0\n",
       "stalking                        23\n",
       "dtype: int64"
      ]
     },
     "execution_count": 236,
     "metadata": {},
     "output_type": "execute_result"
    }
   ],
   "source": [
    "df_domestic_violence = df_az[['mcdv','mcdvdating','mcdvsurrender','mcdvsurrendernoconditions','mcdvsurrenderdating','mcdvremovalallowed','mcdvremovalrequired','incidentremoval','incidentall','dvro','dvrodating','exparte','expartedating','dvrosurrender','dvrosurrendernoconditions','dvrosurrenderdating','expartesurrender','expartesurrendernoconditions','expartesurrenderdating','dvroremoval','stalking']]\n",
    "df_domestic_violence.sum()\n"
   ]
  },
  {
   "cell_type": "code",
   "execution_count": null,
   "metadata": {},
   "outputs": [],
   "source": []
  },
  {
   "cell_type": "code",
   "execution_count": null,
   "metadata": {},
   "outputs": [],
   "source": []
  },
  {
   "cell_type": "code",
   "execution_count": 242,
   "metadata": {
    "scrolled": true
   },
   "outputs": [
    {
     "data": {
      "text/html": [
       "<div>\n",
       "<style scoped>\n",
       "    .dataframe tbody tr th:only-of-type {\n",
       "        vertical-align: middle;\n",
       "    }\n",
       "\n",
       "    .dataframe tbody tr th {\n",
       "        vertical-align: top;\n",
       "    }\n",
       "\n",
       "    .dataframe thead th {\n",
       "        text-align: right;\n",
       "    }\n",
       "</style>\n",
       "<table border=\"1\" class=\"dataframe\">\n",
       "  <thead>\n",
       "    <tr style=\"text-align: right;\">\n",
       "      <th></th>\n",
       "      <th>Year</th>\n",
       "      <th>State</th>\n",
       "      <th>Total</th>\n",
       "      <th>Type</th>\n",
       "      <th>By Weapon</th>\n",
       "    </tr>\n",
       "  </thead>\n",
       "  <tbody>\n",
       "    <tr>\n",
       "      <th>60</th>\n",
       "      <td>2004</td>\n",
       "      <td>Arizona</td>\n",
       "      <td>409</td>\n",
       "      <td>Firearms</td>\n",
       "      <td>295</td>\n",
       "    </tr>\n",
       "    <tr>\n",
       "      <th>61</th>\n",
       "      <td>2004</td>\n",
       "      <td>Arizona</td>\n",
       "      <td>409</td>\n",
       "      <td>Cutting</td>\n",
       "      <td>44</td>\n",
       "    </tr>\n",
       "    <tr>\n",
       "      <th>62</th>\n",
       "      <td>2004</td>\n",
       "      <td>Arizona</td>\n",
       "      <td>409</td>\n",
       "      <td>Other</td>\n",
       "      <td>45</td>\n",
       "    </tr>\n",
       "    <tr>\n",
       "      <th>63</th>\n",
       "      <td>2004</td>\n",
       "      <td>Arizona</td>\n",
       "      <td>409</td>\n",
       "      <td>Unarmed</td>\n",
       "      <td>25</td>\n",
       "    </tr>\n",
       "    <tr>\n",
       "      <th>256</th>\n",
       "      <td>2005</td>\n",
       "      <td>Arizona</td>\n",
       "      <td>440</td>\n",
       "      <td>Firearms</td>\n",
       "      <td>334</td>\n",
       "    </tr>\n",
       "    <tr>\n",
       "      <th>257</th>\n",
       "      <td>2005</td>\n",
       "      <td>Arizona</td>\n",
       "      <td>440</td>\n",
       "      <td>Cutting</td>\n",
       "      <td>43</td>\n",
       "    </tr>\n",
       "    <tr>\n",
       "      <th>258</th>\n",
       "      <td>2005</td>\n",
       "      <td>Arizona</td>\n",
       "      <td>440</td>\n",
       "      <td>Other</td>\n",
       "      <td>34</td>\n",
       "    </tr>\n",
       "    <tr>\n",
       "      <th>259</th>\n",
       "      <td>2005</td>\n",
       "      <td>Arizona</td>\n",
       "      <td>440</td>\n",
       "      <td>Unarmed</td>\n",
       "      <td>29</td>\n",
       "    </tr>\n",
       "    <tr>\n",
       "      <th>452</th>\n",
       "      <td>2006</td>\n",
       "      <td>Arizona</td>\n",
       "      <td>462</td>\n",
       "      <td>Firearms</td>\n",
       "      <td>343</td>\n",
       "    </tr>\n",
       "    <tr>\n",
       "      <th>453</th>\n",
       "      <td>2006</td>\n",
       "      <td>Arizona</td>\n",
       "      <td>462</td>\n",
       "      <td>Cutting</td>\n",
       "      <td>53</td>\n",
       "    </tr>\n",
       "  </tbody>\n",
       "</table>\n",
       "</div>"
      ],
      "text/plain": [
       "     Year    State  Total      Type  By Weapon\n",
       "60   2004  Arizona    409  Firearms        295\n",
       "61   2004  Arizona    409   Cutting         44\n",
       "62   2004  Arizona    409     Other         45\n",
       "63   2004  Arizona    409   Unarmed         25\n",
       "256  2005  Arizona    440  Firearms        334\n",
       "257  2005  Arizona    440   Cutting         43\n",
       "258  2005  Arizona    440     Other         34\n",
       "259  2005  Arizona    440   Unarmed         29\n",
       "452  2006  Arizona    462  Firearms        343\n",
       "453  2006  Arizona    462   Cutting         53"
      ]
     },
     "execution_count": 242,
     "metadata": {},
     "output_type": "execute_result"
    }
   ],
   "source": [
    "#https://www.kaggle.com/bryanmaloney/murders-by-method-usa-19992016/downloads/murders-by-method-usa-19992016.zip/1\n",
    "df_m = pd.read_csv('murders by type.csv', sep=',', encoding='Latin-1') # Read the four raw .csv file, store into data frames\n",
    "\n",
    "df_m_az = df_m[df_m['State'] == 'Arizona']\n",
    "\n",
    "df_m_az.head(10)\n"
   ]
  },
  {
   "cell_type": "code",
   "execution_count": 243,
   "metadata": {
    "scrolled": true
   },
   "outputs": [
    {
     "data": {
      "text/html": [
       "<div>\n",
       "<style scoped>\n",
       "    .dataframe tbody tr th:only-of-type {\n",
       "        vertical-align: middle;\n",
       "    }\n",
       "\n",
       "    .dataframe tbody tr th {\n",
       "        vertical-align: top;\n",
       "    }\n",
       "\n",
       "    .dataframe thead th {\n",
       "        text-align: right;\n",
       "    }\n",
       "</style>\n",
       "<table border=\"1\" class=\"dataframe\">\n",
       "  <thead>\n",
       "    <tr style=\"text-align: right;\">\n",
       "      <th></th>\n",
       "      <th>Year</th>\n",
       "      <th>State</th>\n",
       "      <th>Total</th>\n",
       "      <th>Type</th>\n",
       "      <th>By Weapon</th>\n",
       "    </tr>\n",
       "  </thead>\n",
       "  <tbody>\n",
       "    <tr>\n",
       "      <th>60</th>\n",
       "      <td>2004</td>\n",
       "      <td>Arizona</td>\n",
       "      <td>409</td>\n",
       "      <td>Firearms</td>\n",
       "      <td>295</td>\n",
       "    </tr>\n",
       "    <tr>\n",
       "      <th>256</th>\n",
       "      <td>2005</td>\n",
       "      <td>Arizona</td>\n",
       "      <td>440</td>\n",
       "      <td>Firearms</td>\n",
       "      <td>334</td>\n",
       "    </tr>\n",
       "    <tr>\n",
       "      <th>452</th>\n",
       "      <td>2006</td>\n",
       "      <td>Arizona</td>\n",
       "      <td>462</td>\n",
       "      <td>Firearms</td>\n",
       "      <td>343</td>\n",
       "    </tr>\n",
       "    <tr>\n",
       "      <th>648</th>\n",
       "      <td>2007</td>\n",
       "      <td>Arizona</td>\n",
       "      <td>464</td>\n",
       "      <td>Firearms</td>\n",
       "      <td>323</td>\n",
       "    </tr>\n",
       "    <tr>\n",
       "      <th>844</th>\n",
       "      <td>2008</td>\n",
       "      <td>Arizona</td>\n",
       "      <td>405</td>\n",
       "      <td>Firearms</td>\n",
       "      <td>290</td>\n",
       "    </tr>\n",
       "  </tbody>\n",
       "</table>\n",
       "</div>"
      ],
      "text/plain": [
       "     Year    State  Total      Type  By Weapon\n",
       "60   2004  Arizona    409  Firearms        295\n",
       "256  2005  Arizona    440  Firearms        334\n",
       "452  2006  Arizona    462  Firearms        343\n",
       "648  2007  Arizona    464  Firearms        323\n",
       "844  2008  Arizona    405  Firearms        290"
      ]
     },
     "execution_count": 243,
     "metadata": {},
     "output_type": "execute_result"
    }
   ],
   "source": [
    "df_m_az_firearms = df_m_az[df_m_az['Type'] == 'Firearms']\n",
    "df_m_az_firearms.head()"
   ]
  },
  {
   "cell_type": "code",
   "execution_count": 295,
   "metadata": {
    "scrolled": true
   },
   "outputs": [
    {
     "name": "stderr",
     "output_type": "stream",
     "text": [
      "/Users/coreycoole/anaconda3/lib/python3.7/site-packages/ipykernel_launcher.py:3: SettingWithCopyWarning: \n",
      "A value is trying to be set on a copy of a slice from a DataFrame.\n",
      "Try using .loc[row_indexer,col_indexer] = value instead\n",
      "\n",
      "See the caveats in the documentation: http://pandas.pydata.org/pandas-docs/stable/indexing.html#indexing-view-versus-copy\n",
      "  This is separate from the ipykernel package so we can avoid doing imports until\n"
     ]
    },
    {
     "data": {
      "text/html": [
       "<div>\n",
       "<style scoped>\n",
       "    .dataframe tbody tr th:only-of-type {\n",
       "        vertical-align: middle;\n",
       "    }\n",
       "\n",
       "    .dataframe tbody tr th {\n",
       "        vertical-align: top;\n",
       "    }\n",
       "\n",
       "    .dataframe thead th {\n",
       "        text-align: right;\n",
       "    }\n",
       "</style>\n",
       "<table border=\"1\" class=\"dataframe\">\n",
       "  <thead>\n",
       "    <tr style=\"text-align: right;\">\n",
       "      <th></th>\n",
       "      <th>Year</th>\n",
       "      <th>State</th>\n",
       "      <th>Total</th>\n",
       "      <th>Type</th>\n",
       "      <th>By Weapon</th>\n",
       "      <th>counts</th>\n",
       "    </tr>\n",
       "  </thead>\n",
       "  <tbody>\n",
       "    <tr>\n",
       "      <th>61</th>\n",
       "      <td>2004</td>\n",
       "      <td>Arizona</td>\n",
       "      <td>409</td>\n",
       "      <td>Cutting</td>\n",
       "      <td>44</td>\n",
       "      <td>44</td>\n",
       "    </tr>\n",
       "    <tr>\n",
       "      <th>62</th>\n",
       "      <td>2004</td>\n",
       "      <td>Arizona</td>\n",
       "      <td>409</td>\n",
       "      <td>Other</td>\n",
       "      <td>45</td>\n",
       "      <td>45</td>\n",
       "    </tr>\n",
       "    <tr>\n",
       "      <th>63</th>\n",
       "      <td>2004</td>\n",
       "      <td>Arizona</td>\n",
       "      <td>409</td>\n",
       "      <td>Unarmed</td>\n",
       "      <td>25</td>\n",
       "      <td>25</td>\n",
       "    </tr>\n",
       "    <tr>\n",
       "      <th>257</th>\n",
       "      <td>2005</td>\n",
       "      <td>Arizona</td>\n",
       "      <td>440</td>\n",
       "      <td>Cutting</td>\n",
       "      <td>43</td>\n",
       "      <td>43</td>\n",
       "    </tr>\n",
       "    <tr>\n",
       "      <th>258</th>\n",
       "      <td>2005</td>\n",
       "      <td>Arizona</td>\n",
       "      <td>440</td>\n",
       "      <td>Other</td>\n",
       "      <td>34</td>\n",
       "      <td>34</td>\n",
       "    </tr>\n",
       "  </tbody>\n",
       "</table>\n",
       "</div>"
      ],
      "text/plain": [
       "     Year    State  Total     Type  By Weapon  counts\n",
       "61   2004  Arizona    409  Cutting         44      44\n",
       "62   2004  Arizona    409    Other         45      45\n",
       "63   2004  Arizona    409  Unarmed         25      25\n",
       "257  2005  Arizona    440  Cutting         43      43\n",
       "258  2005  Arizona    440    Other         34      34"
      ]
     },
     "execution_count": 295,
     "metadata": {},
     "output_type": "execute_result"
    }
   ],
   "source": [
    "df_m_az_all_other = df_m_az[~df_m_az.Type.str.contains(\"Firearms\")]\n",
    "counts = df_m_az_all_other.iloc[:,-1] #create another dataframe with simpler column title \n",
    "df_m_az_all_other[\"counts\"] = counts\n",
    "\n",
    "df_m_az_all_other.head()"
   ]
  },
  {
   "cell_type": "code",
   "execution_count": 301,
   "metadata": {},
   "outputs": [],
   "source": [
    "df_m_az_all_other_cutting = df_m_az_all_other[df_m_az_all_other[\"Type\"] == \"Cutting\"]\n",
    "df_m_az_all_other_other = df_m_az_all_other[df_m_az_all_other[\"Type\"] == \"Other\"]\n",
    "df_m_az_all_other_unarmed = df_m_az_all_other[df_m_az_all_other[\"Type\"] == \"Unarmed\"]"
   ]
  },
  {
   "cell_type": "code",
   "execution_count": 302,
   "metadata": {
    "scrolled": true
   },
   "outputs": [
    {
     "data": {
      "text/plain": [
       "(array([ 87.,  53.,  44.,  45.,  61., 100.,  40.,  56.,  33.,  82.]),\n",
       " array([2004. , 2005.2, 2006.4, 2007.6, 2008.8, 2010. , 2011.2, 2012.4,\n",
       "        2013.6, 2014.8, 2016. ]),\n",
       " <a list of 10 Patch objects>)"
      ]
     },
     "execution_count": 302,
     "metadata": {},
     "output_type": "execute_result"
    },
    {
     "data": {
      "image/png": "[encoded data removed]",
      "text/plain": [
       "<Figure size 432x288 with 1 Axes>"
      ]
     },
     "metadata": {
      "needs_background": "light"
     },
     "output_type": "display_data"
    }
   ],
   "source": [
    "hist(df_m_az_all_other_cutting.Year, weights=df_m_az_all_other_cutting.counts)"
   ]
  },
  {
   "cell_type": "code",
   "execution_count": 303,
   "metadata": {
    "scrolled": true
   },
   "outputs": [
    {
     "data": {
      "text/plain": [
       "(array([ 79.,  46.,  67.,  45.,  53., 121.,  58.,  55.,  66., 118.]),\n",
       " array([2004. , 2005.2, 2006.4, 2007.6, 2008.8, 2010. , 2011.2, 2012.4,\n",
       "        2013.6, 2014.8, 2016. ]),\n",
       " <a list of 10 Patch objects>)"
      ]
     },
     "execution_count": 303,
     "metadata": {},
     "output_type": "execute_result"
    },
    {
     "data": {
      "image/png": "[encoded data removed]",
      "text/plain": [
       "<Figure size 432x288 with 1 Axes>"
      ]
     },
     "metadata": {
      "needs_background": "light"
     },
     "output_type": "display_data"
    }
   ],
   "source": [
    "hist(df_m_az_all_other_other.Year, weights=df_m_az_all_other_other.counts)"
   ]
  },
  {
   "cell_type": "code",
   "execution_count": 304,
   "metadata": {},
   "outputs": [
    {
     "data": {
      "text/plain": [
       "(array([54., 20., 30., 25., 17., 16., 12.,  9.,  6., 16.]),\n",
       " array([2004. , 2005.2, 2006.4, 2007.6, 2008.8, 2010. , 2011.2, 2012.4,\n",
       "        2013.6, 2014.8, 2016. ]),\n",
       " <a list of 10 Patch objects>)"
      ]
     },
     "execution_count": 304,
     "metadata": {},
     "output_type": "execute_result"
    },
    {
     "data": {
      "image/png": "[encoded data removed]",
      "text/plain": [
       "<Figure size 432x288 with 1 Axes>"
      ]
     },
     "metadata": {
      "needs_background": "light"
     },
     "output_type": "display_data"
    }
   ],
   "source": [
    "hist(df_m_az_all_other_unarmed.Year, weights=df_m_az_all_other_unarmed.counts)"
   ]
  },
  {
   "cell_type": "code",
   "execution_count": 238,
   "metadata": {
    "scrolled": true
   },
   "outputs": [
    {
     "data": {
      "text/html": [
       "<div>\n",
       "<style scoped>\n",
       "    .dataframe tbody tr th:only-of-type {\n",
       "        vertical-align: middle;\n",
       "    }\n",
       "\n",
       "    .dataframe tbody tr th {\n",
       "        vertical-align: top;\n",
       "    }\n",
       "\n",
       "    .dataframe thead th {\n",
       "        text-align: right;\n",
       "    }\n",
       "</style>\n",
       "<table border=\"1\" class=\"dataframe\">\n",
       "  <thead>\n",
       "    <tr style=\"text-align: right;\">\n",
       "      <th></th>\n",
       "      <th>Year</th>\n",
       "      <th>State</th>\n",
       "      <th>Total</th>\n",
       "      <th>Total minus Unknown</th>\n",
       "      <th>Type</th>\n",
       "      <th>By Type</th>\n",
       "    </tr>\n",
       "  </thead>\n",
       "  <tbody>\n",
       "    <tr>\n",
       "      <th>60</th>\n",
       "      <td>2004</td>\n",
       "      <td>Arizona</td>\n",
       "      <td>295</td>\n",
       "      <td>288</td>\n",
       "      <td>Handgun</td>\n",
       "      <td>244</td>\n",
       "    </tr>\n",
       "    <tr>\n",
       "      <th>61</th>\n",
       "      <td>2004</td>\n",
       "      <td>Arizona</td>\n",
       "      <td>295</td>\n",
       "      <td>288</td>\n",
       "      <td>Rifle</td>\n",
       "      <td>30</td>\n",
       "    </tr>\n",
       "    <tr>\n",
       "      <th>62</th>\n",
       "      <td>2004</td>\n",
       "      <td>Arizona</td>\n",
       "      <td>295</td>\n",
       "      <td>288</td>\n",
       "      <td>Shotgun</td>\n",
       "      <td>14</td>\n",
       "    </tr>\n",
       "    <tr>\n",
       "      <th>63</th>\n",
       "      <td>2004</td>\n",
       "      <td>Arizona</td>\n",
       "      <td>295</td>\n",
       "      <td>288</td>\n",
       "      <td>Unknown</td>\n",
       "      <td>7</td>\n",
       "    </tr>\n",
       "    <tr>\n",
       "      <th>256</th>\n",
       "      <td>2005</td>\n",
       "      <td>Arizona</td>\n",
       "      <td>334</td>\n",
       "      <td>311</td>\n",
       "      <td>Handgun</td>\n",
       "      <td>270</td>\n",
       "    </tr>\n",
       "  </tbody>\n",
       "</table>\n",
       "</div>"
      ],
      "text/plain": [
       "     Year    State  Total  Total minus Unknown     Type  By Type\n",
       "60   2004  Arizona    295                  288  Handgun      244\n",
       "61   2004  Arizona    295                  288    Rifle       30\n",
       "62   2004  Arizona    295                  288  Shotgun       14\n",
       "63   2004  Arizona    295                  288  Unknown        7\n",
       "256  2005  Arizona    334                  311  Handgun      270"
      ]
     },
     "execution_count": 238,
     "metadata": {},
     "output_type": "execute_result"
    }
   ],
   "source": [
    "df_fm = pd.read_csv('Firearm Murders.csv', sep=',', encoding='Latin-1') # Read the four raw .csv file, store into data frames\n",
    "\n",
    "df_fm_az = df_fm[df_fm['State'] == 'Arizona']\n",
    "df_fm_az.head()\n",
    "\n"
   ]
  },
  {
   "cell_type": "code",
   "execution_count": 274,
   "metadata": {},
   "outputs": [
    {
     "name": "stderr",
     "output_type": "stream",
     "text": [
      "/Users/coreycoole/anaconda3/lib/python3.7/site-packages/ipykernel_launcher.py:2: SettingWithCopyWarning: \n",
      "A value is trying to be set on a copy of a slice from a DataFrame.\n",
      "Try using .loc[row_indexer,col_indexer] = value instead\n",
      "\n",
      "See the caveats in the documentation: http://pandas.pydata.org/pandas-docs/stable/indexing.html#indexing-view-versus-copy\n",
      "  \n"
     ]
    },
    {
     "data": {
      "text/html": [
       "<div>\n",
       "<style scoped>\n",
       "    .dataframe tbody tr th:only-of-type {\n",
       "        vertical-align: middle;\n",
       "    }\n",
       "\n",
       "    .dataframe tbody tr th {\n",
       "        vertical-align: top;\n",
       "    }\n",
       "\n",
       "    .dataframe thead th {\n",
       "        text-align: right;\n",
       "    }\n",
       "</style>\n",
       "<table border=\"1\" class=\"dataframe\">\n",
       "  <thead>\n",
       "    <tr style=\"text-align: right;\">\n",
       "      <th></th>\n",
       "      <th>Year</th>\n",
       "      <th>State</th>\n",
       "      <th>Total</th>\n",
       "      <th>Total minus Unknown</th>\n",
       "      <th>Type</th>\n",
       "      <th>By Type</th>\n",
       "      <th>counts</th>\n",
       "    </tr>\n",
       "  </thead>\n",
       "  <tbody>\n",
       "    <tr>\n",
       "      <th>60</th>\n",
       "      <td>2004</td>\n",
       "      <td>Arizona</td>\n",
       "      <td>295</td>\n",
       "      <td>288</td>\n",
       "      <td>Handgun</td>\n",
       "      <td>244</td>\n",
       "      <td>244</td>\n",
       "    </tr>\n",
       "    <tr>\n",
       "      <th>61</th>\n",
       "      <td>2004</td>\n",
       "      <td>Arizona</td>\n",
       "      <td>295</td>\n",
       "      <td>288</td>\n",
       "      <td>Rifle</td>\n",
       "      <td>30</td>\n",
       "      <td>30</td>\n",
       "    </tr>\n",
       "    <tr>\n",
       "      <th>62</th>\n",
       "      <td>2004</td>\n",
       "      <td>Arizona</td>\n",
       "      <td>295</td>\n",
       "      <td>288</td>\n",
       "      <td>Shotgun</td>\n",
       "      <td>14</td>\n",
       "      <td>14</td>\n",
       "    </tr>\n",
       "    <tr>\n",
       "      <th>63</th>\n",
       "      <td>2004</td>\n",
       "      <td>Arizona</td>\n",
       "      <td>295</td>\n",
       "      <td>288</td>\n",
       "      <td>Unknown</td>\n",
       "      <td>7</td>\n",
       "      <td>7</td>\n",
       "    </tr>\n",
       "    <tr>\n",
       "      <th>256</th>\n",
       "      <td>2005</td>\n",
       "      <td>Arizona</td>\n",
       "      <td>334</td>\n",
       "      <td>311</td>\n",
       "      <td>Handgun</td>\n",
       "      <td>270</td>\n",
       "      <td>270</td>\n",
       "    </tr>\n",
       "  </tbody>\n",
       "</table>\n",
       "</div>"
      ],
      "text/plain": [
       "     Year    State  Total  Total minus Unknown     Type  By Type  counts\n",
       "60   2004  Arizona    295                  288  Handgun      244     244\n",
       "61   2004  Arizona    295                  288    Rifle       30      30\n",
       "62   2004  Arizona    295                  288  Shotgun       14      14\n",
       "63   2004  Arizona    295                  288  Unknown        7       7\n",
       "256  2005  Arizona    334                  311  Handgun      270     270"
      ]
     },
     "execution_count": 274,
     "metadata": {},
     "output_type": "execute_result"
    }
   ],
   "source": [
    "counts = df_fm_az.iloc[:,-1] #create another dataframe with simpler column title \n",
    "df_fm_az[\"counts\"] = counts\n",
    "\n",
    "df_fm_az.head()"
   ]
  },
  {
   "cell_type": "code",
   "execution_count": 289,
   "metadata": {},
   "outputs": [],
   "source": [
    "df_fm_az_handgun = df_fm_az[df_fm_az[\"Type\"] == \"Handgun\"]\n",
    "df_fm_az_rifle = df_fm_az[df_fm_az[\"Type\"] == \"Rifle\"]\n",
    "df_fm_az_shotgun = df_fm_az[df_fm_az[\"Type\"] == \"Shotgun\"]\n",
    "df_fm_az_unknown = df_fm_az[df_fm_az[\"Type\"] == \"Unknown\"]"
   ]
  },
  {
   "cell_type": "code",
   "execution_count": 277,
   "metadata": {},
   "outputs": [
    {
     "data": {
      "text/plain": [
       "(array([30., 27., 12., 16., 13., 90., 33., 29., 25., 81.]),\n",
       " array([2004. , 2005.2, 2006.4, 2007.6, 2008.8, 2010. , 2011.2, 2012.4,\n",
       "        2013.6, 2014.8, 2016. ]),\n",
       " <a list of 10 Patch objects>)"
      ]
     },
     "execution_count": 277,
     "metadata": {},
     "output_type": "execute_result"
    },
    {
     "data": {
      "image/png": "[encoded data removed]",
      "text/plain": [
       "<Figure size 432x288 with 1 Axes>"
      ]
     },
     "metadata": {
      "needs_background": "light"
     },
     "output_type": "display_data"
    }
   ],
   "source": [
    "hist(df_fm_az_unknown.Year, weights=df_fm_az_unknown.counts)"
   ]
  },
  {
   "cell_type": "code",
   "execution_count": 291,
   "metadata": {},
   "outputs": [
    {
     "data": {
      "text/plain": [
       "(array([514., 269., 265., 243., 164., 317., 157., 133., 116., 284.]),\n",
       " array([2004. , 2005.2, 2006.4, 2007.6, 2008.8, 2010. , 2011.2, 2012.4,\n",
       "        2013.6, 2014.8, 2016. ]),\n",
       " <a list of 10 Patch objects>)"
      ]
     },
     "execution_count": 291,
     "metadata": {},
     "output_type": "execute_result"
    },
    {
     "data": {
      "image/png": "[encoded data removed]",
      "text/plain": [
       "<Figure size 432x288 with 1 Axes>"
      ]
     },
     "metadata": {
      "needs_background": "light"
     },
     "output_type": "display_data"
    }
   ],
   "source": [
    "hist(df_fm_az_handgun.Year, weights=df_fm_az_handgun.counts)"
   ]
  },
  {
   "cell_type": "code",
   "execution_count": 292,
   "metadata": {},
   "outputs": [
    {
     "data": {
      "text/plain": [
       "(array([52., 33., 35., 15., 10., 28., 12., 11.,  6., 20.]),\n",
       " array([2004. , 2005.2, 2006.4, 2007.6, 2008.8, 2010. , 2011.2, 2012.4,\n",
       "        2013.6, 2014.8, 2016. ]),\n",
       " <a list of 10 Patch objects>)"
      ]
     },
     "execution_count": 292,
     "metadata": {},
     "output_type": "execute_result"
    },
    {
     "data": {
      "image/png": "[encoded data removed]",
      "text/plain": [
       "<Figure size 432x288 with 1 Axes>"
      ]
     },
     "metadata": {
      "needs_background": "light"
     },
     "output_type": "display_data"
    }
   ],
   "source": [
    "hist(df_fm_az_rifle.Year, weights=df_fm_az_rifle.counts)"
   ]
  },
  {
   "cell_type": "code",
   "execution_count": 293,
   "metadata": {},
   "outputs": [
    {
     "data": {
      "text/plain": [
       "(array([33., 14., 11., 16., 10., 19.,  9., 11.,  6., 13.]),\n",
       " array([2004. , 2005.2, 2006.4, 2007.6, 2008.8, 2010. , 2011.2, 2012.4,\n",
       "        2013.6, 2014.8, 2016. ]),\n",
       " <a list of 10 Patch objects>)"
      ]
     },
     "execution_count": 293,
     "metadata": {},
     "output_type": "execute_result"
    },
    {
     "data": {
      "image/png": "[encoded data removed]",
      "text/plain": [
       "<Figure size 432x288 with 1 Axes>"
      ]
     },
     "metadata": {
      "needs_background": "light"
     },
     "output_type": "display_data"
    }
   ],
   "source": [
    "hist(df_fm_az_shotgun.Year, weights=df_fm_az_shotgun.counts)"
   ]
  },
  {
   "cell_type": "code",
   "execution_count": null,
   "metadata": {},
   "outputs": [],
   "source": []
  }
 ],
 "metadata": {
  "kernelspec": {
   "display_name": "Python 3",
   "language": "python",
   "name": "python3"
  },
  "language_info": {
   "codemirror_mode": {
    "name": "ipython",
    "version": 3
   },
   "file_extension": ".py",
   "mimetype": "text/x-python",
   "name": "python",
   "nbconvert_exporter": "python",
   "pygments_lexer": "ipython3",
   "version": "3.7.1"
  }
 },
 "nbformat": 4,
 "nbformat_minor": 2
}
